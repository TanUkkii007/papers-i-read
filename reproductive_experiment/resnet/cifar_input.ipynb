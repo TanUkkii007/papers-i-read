{
 "cells": [
  {
   "cell_type": "code",
   "execution_count": 1,
   "metadata": {
    "collapsed": true
   },
   "outputs": [],
   "source": [
    "import tensorflow as tf"
   ]
  },
  {
   "cell_type": "code",
   "execution_count": 8,
   "metadata": {
    "collapsed": false
   },
   "outputs": [
    {
     "name": "stdout",
     "output_type": "stream",
     "text": [
      "Help on function __init__ in module tensorflow.python.ops.data_flow_ops:\n",
      "\n",
      "__init__(self, capacity, dtypes, shapes=None, names=None, shared_name=None, name='fifo_queue')\n",
      "    Creates a queue that dequeues elements in a first-in first-out order.\n",
      "    \n",
      "    A `FIFOQueue` has bounded capacity; supports multiple concurrent\n",
      "    producers and consumers; and provides exactly-once delivery.\n",
      "    \n",
      "    A `FIFOQueue` holds a list of up to `capacity` elements. Each\n",
      "    element is a fixed-length tuple of tensors whose dtypes are\n",
      "    described by `dtypes`, and whose shapes are optionally described\n",
      "    by the `shapes` argument.\n",
      "    \n",
      "    If the `shapes` argument is specified, each component of a queue\n",
      "    element must have the respective fixed shape. If it is\n",
      "    unspecified, different queue elements may have different shapes,\n",
      "    but the use of `dequeue_many` is disallowed.\n",
      "    \n",
      "    Args:\n",
      "      capacity: An integer. The upper bound on the number of elements\n",
      "        that may be stored in this queue.\n",
      "      dtypes:  A list of `DType` objects. The length of `dtypes` must equal\n",
      "        the number of tensors in each queue element.\n",
      "      shapes: (Optional.) A list of fully-defined `TensorShape` objects\n",
      "        with the same length as `dtypes`, or `None`.\n",
      "      names: (Optional.) A list of string naming the components in the queue\n",
      "        with the same length as `dtypes`, or `None`.  If specified the dequeue\n",
      "        methods return a dictionary with the names as keys.\n",
      "      shared_name: (Optional.) If non-empty, this queue will be shared under\n",
      "        the given name across multiple sessions.\n",
      "      name: Optional name for the queue operation.\n",
      "\n"
     ]
    }
   ],
   "source": [
    "# tf.train.string_input_producer or tf.FIFOQueue\n",
    "# https://www.tensorflow.org/programmers_guide/threading_and_queues\n",
    "\n",
    "help(tf.FIFOQueue.__init__)\n",
    "\n",
    "q = tf.FIFOQueue(capacity = 3, dtypes = \"float\")\n",
    "init = q.enqueue_many(([0., 0., 0.],))\n",
    "x = q.dequeue()\n",
    "y = x + 1\n",
    "q_inc = q.enqueue([y])\n",
    "\n",
    "with tf.Session() as sess:\n",
    "    sess.run(init)\n",
    "    sess.run(q_inc)\n",
    "    sess.run(q_inc)\n",
    "    sess.run(q_inc)"
   ]
  },
  {
   "cell_type": "code",
   "execution_count": 3,
   "metadata": {
    "collapsed": false
   },
   "outputs": [
    {
     "name": "stdout",
     "output_type": "stream",
     "text": [
      "Help on function decode_raw in module tensorflow.python.ops.gen_parsing_ops:\n",
      "\n",
      "decode_raw(bytes, out_type, little_endian=None, name=None)\n",
      "    Reinterpret the bytes of a string as a vector of numbers.\n",
      "    \n",
      "    Args:\n",
      "      bytes: A `Tensor` of type `string`.\n",
      "        All the elements must have the same length.\n",
      "      out_type: A `tf.DType` from: `tf.half, tf.float32, tf.float64, tf.int32, tf.uint8, tf.int16, tf.int8, tf.int64`.\n",
      "      little_endian: An optional `bool`. Defaults to `True`.\n",
      "        Whether the input `bytes` are in little-endian order.\n",
      "        Ignored for `out_type` values that are stored in a single byte like\n",
      "        `uint8`.\n",
      "      name: A name for the operation (optional).\n",
      "    \n",
      "    Returns:\n",
      "      A `Tensor` of type `out_type`.\n",
      "      A Tensor with one more dimension than the input `bytes`.  The\n",
      "      added dimension will have size equal to the length of the elements\n",
      "      of `bytes` divided by the number of bytes to represent `out_type`.\n",
      "\n"
     ]
    },
    {
     "data": {
      "text/plain": [
       "array([[48],\n",
       "       [49],\n",
       "       [50]], dtype=uint8)"
      ]
     },
     "execution_count": 3,
     "metadata": {},
     "output_type": "execute_result"
    }
   ],
   "source": [
    "# tf.decode_raw\n",
    "\n",
    "help(tf.decode_raw)\n",
    "\n",
    "value = tf.constant(['0', '1', '2'])\n",
    "g = tf.decode_raw(value, tf.uint8)\n",
    "with tf.Session() as sess:\n",
    "    a = sess.run(g)\n",
    "a"
   ]
  },
  {
   "cell_type": "code",
   "execution_count": 9,
   "metadata": {
    "collapsed": false
   },
   "outputs": [
    {
     "name": "stdout",
     "output_type": "stream",
     "text": [
      "Help on function slice in module tensorflow.python.ops.array_ops:\n",
      "\n",
      "slice(input_, begin, size, name=None)\n",
      "    Extracts a slice from a tensor.\n",
      "    \n",
      "    This operation extracts a slice of size `size` from a tensor `input` starting\n",
      "    at the location specified by `begin`. The slice `size` is represented as a\n",
      "    tensor shape, where `size[i]` is the number of elements of the 'i'th dimension\n",
      "    of `input` that you want to slice. The starting location (`begin`) for the\n",
      "    slice is represented as an offset in each dimension of `input`. In other\n",
      "    words, `begin[i]` is the offset into the 'i'th dimension of `input` that you\n",
      "    want to slice from.\n",
      "    \n",
      "    `begin` is zero-based; `size` is one-based. If `size[i]` is -1,\n",
      "    all remaining elements in dimension i are included in the\n",
      "    slice. In other words, this is equivalent to setting:\n",
      "    \n",
      "    `size[i] = input.dim_size(i) - begin[i]`\n",
      "    \n",
      "    This operation requires that:\n",
      "    \n",
      "    `0 <= begin[i] <= begin[i] + size[i] <= Di  for i in [0, n]`\n",
      "    \n",
      "    For example:\n",
      "    \n",
      "    ```python\n",
      "    # 'input' is [[[1, 1, 1], [2, 2, 2]],\n",
      "    #             [[3, 3, 3], [4, 4, 4]],\n",
      "    #             [[5, 5, 5], [6, 6, 6]]]\n",
      "    tf.slice(input, [1, 0, 0], [1, 1, 3]) ==> [[[3, 3, 3]]]\n",
      "    tf.slice(input, [1, 0, 0], [1, 2, 3]) ==> [[[3, 3, 3],\n",
      "                                                [4, 4, 4]]]\n",
      "    tf.slice(input, [1, 0, 0], [2, 1, 3]) ==> [[[3, 3, 3]],\n",
      "                                               [[5, 5, 5]]]\n",
      "    ```\n",
      "    \n",
      "    Args:\n",
      "      input_: A `Tensor`.\n",
      "      begin: An `int32` or `int64` `Tensor`.\n",
      "      size: An `int32` or `int64` `Tensor`.\n",
      "      name: A name for the operation (optional).\n",
      "    \n",
      "    Returns:\n",
      "      A `Tensor` the same type as `input`.\n",
      "\n",
      "[[[3 3 3]]]\n",
      "[[[3 3 3]\n",
      "  [4 4 4]]]\n",
      "[[[3 3 3]]\n",
      "\n",
      " [[5 5 5]]]\n"
     ]
    }
   ],
   "source": [
    "# tf.slice\n",
    "\n",
    "help(tf.slice)\n",
    "\n",
    "x = tf.constant([\n",
    "    [[1,1,1], [2,2,2]],\n",
    "    [[3,3,3], [4,4,4]],\n",
    "    [[5,5,5], [6,6,6]]\n",
    "], dtype=tf.int32)\n",
    "\n",
    "y = tf.slice(x, begin=[1,0,0], size=[1,1,3])\n",
    "z = tf.slice(x, begin=[1,0,0], size=[1,2,3])\n",
    "w = tf.slice(x, begin=[1,0,0], size=[2,1,3])\n",
    "\n",
    "with tf.Session() as sess:\n",
    "    print(sess.run(y))\n",
    "    print(sess.run(z))\n",
    "    print(sess.run(w))"
   ]
  }
 ],
 "metadata": {
  "kernelspec": {
   "display_name": "Python 3",
   "language": "python",
   "name": "python3"
  },
  "language_info": {
   "codemirror_mode": {
    "name": "ipython",
    "version": 3
   },
   "file_extension": ".py",
   "mimetype": "text/x-python",
   "name": "python",
   "nbconvert_exporter": "python",
   "pygments_lexer": "ipython3",
   "version": "3.5.2"
  }
 },
 "nbformat": 4,
 "nbformat_minor": 2
}
