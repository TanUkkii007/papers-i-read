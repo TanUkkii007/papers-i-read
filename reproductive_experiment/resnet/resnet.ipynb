{
 "cells": [
  {
   "cell_type": "code",
   "execution_count": 1,
   "metadata": {
    "collapsed": false
   },
   "outputs": [],
   "source": [
    "from collections import namedtuple\n",
    "import numpy as np\n",
    "import tensorflow as tf\n",
    "import six\n",
    "import matplotlib.pyplot as plt"
   ]
  },
  {
   "cell_type": "code",
   "execution_count": 8,
   "metadata": {
    "collapsed": false
   },
   "outputs": [
    {
     "data": {
      "text/plain": [
       "Point(x=1, y=2, z=3)"
      ]
     },
     "execution_count": 8,
     "metadata": {},
     "output_type": "execute_result"
    }
   ],
   "source": [
    "# named tuple\n",
    "# https://docs.python.jp/3/library/collections.html#collections.namedtuple\n",
    "\n",
    "Point = namedtuple('Point', ['x', 'y', 'z'])\n",
    "\n",
    "p = Point(1,2,3)\n",
    "p"
   ]
  },
  {
   "cell_type": "code",
   "execution_count": 9,
   "metadata": {
    "collapsed": false
   },
   "outputs": [
    {
     "data": {
      "text/plain": [
       "(1, 2, 3)"
      ]
     },
     "execution_count": 9,
     "metadata": {},
     "output_type": "execute_result"
    }
   ],
   "source": [
    "p[0], p[1], p[2]"
   ]
  },
  {
   "cell_type": "code",
   "execution_count": 10,
   "metadata": {
    "collapsed": false
   },
   "outputs": [
    {
     "data": {
      "text/plain": [
       "(1, 2, 3)"
      ]
     },
     "execution_count": 10,
     "metadata": {},
     "output_type": "execute_result"
    }
   ],
   "source": [
    "p.x, p.y, p.z"
   ]
  },
  {
   "cell_type": "code",
   "execution_count": 12,
   "metadata": {
    "collapsed": false
   },
   "outputs": [
    {
     "data": {
      "text/plain": [
       "(1, 2, 3)"
      ]
     },
     "execution_count": 12,
     "metadata": {},
     "output_type": "execute_result"
    }
   ],
   "source": [
    "x,y,z = p\n",
    "x,y,z"
   ]
  },
  {
   "cell_type": "code",
   "execution_count": 13,
   "metadata": {
    "collapsed": false
   },
   "outputs": [
    {
     "name": "stdout",
     "output_type": "stream",
     "text": [
      "Help on function get_or_create_global_step in module tensorflow.contrib.framework.python.ops.variables:\n",
      "\n",
      "get_or_create_global_step(graph=None)\n",
      "    Returns and create (if necessary) the global step variable.\n",
      "    \n",
      "    Args:\n",
      "      graph: The graph in which to create the global step. If missing, use default\n",
      "          graph.\n",
      "    \n",
      "    Returns:\n",
      "      the tensor representing the global step variable.\n",
      "\n"
     ]
    }
   ],
   "source": [
    "help(tf.contrib.framework.get_or_create_global_step)"
   ]
  },
  {
   "cell_type": "code",
   "execution_count": 21,
   "metadata": {
    "collapsed": false
   },
   "outputs": [
    {
     "data": {
      "text/plain": [
       "array([ True,  True, False, False, False], dtype=bool)"
      ]
     },
     "execution_count": 21,
     "metadata": {},
     "output_type": "execute_result"
    }
   ],
   "source": [
    "# tf.less\n",
    "\n",
    "x = tf.placeholder(tf.int32, name='test')\n",
    "g = tf.less(x, 0)\n",
    "\n",
    "with tf.Session() as sess:\n",
    "    a = sess.run(g, feed_dict={x: [-2, -1, 0, 1, 2]})\n",
    "a"
   ]
  },
  {
   "cell_type": "code",
   "execution_count": 42,
   "metadata": {
    "collapsed": false
   },
   "outputs": [
    {
     "name": "stdout",
     "output_type": "stream",
     "text": [
      "tttt = [[0]\n",
      " [1]\n",
      " [2]\n",
      " [3]]\n",
      "tttf = [[0]\n",
      " [1]\n",
      " [2]]\n",
      "tfff = [[0]]\n",
      "ftff = [[1]]\n",
      "fftf = [[2]]\n",
      "ffft = [[3]]\n",
      "ffff = []\n",
      "diagonal = [[0 0]\n",
      " [1 1]\n",
      " [2 2]\n",
      " [3 3]]\n"
     ]
    }
   ],
   "source": [
    "# tf.where\n",
    "# Returns locations of true values in a boolean tensor.\n",
    "\n",
    "y = tf.placeholder(tf.bool, name='input')\n",
    "g = tf.where(y, name='where')\n",
    "\n",
    "with tf.Session() as sess:\n",
    "    tttt = sess.run(g, feed_dict={y: [True, True, True, True]})\n",
    "    tttf = sess.run(g, feed_dict={y: [True, True, True, False]})\n",
    "    tfff = sess.run(g, feed_dict={y: [True, False, False, False]})\n",
    "    ftff = sess.run(g, feed_dict={y: [False, True, False, False]})\n",
    "    fftf = sess.run(g, feed_dict={y: [False, False, True, False]})\n",
    "    ffft = sess.run(g, feed_dict={y: [False, False, False, True]})\n",
    "    ffff = sess.run(g, feed_dict={y: [False, False, False, False]})\n",
    "    diagonal = sess.run(g, feed_dict={y: [\n",
    "        [True, False, False, False], \n",
    "        [False, True, False, False], \n",
    "        [False, False, True, False],\n",
    "        [False, False, False, True]]})\n",
    "print('tttt = {}'.format(tttt))\n",
    "print('tttf = {}'.format(tttf))\n",
    "print('tfff = {}'.format(tfff))\n",
    "print('ftff = {}'.format(ftff))\n",
    "print('fftf = {}'.format(fftf))\n",
    "print('ffft = {}'.format(ffft))\n",
    "print('ffff = {}'.format(ffff))\n",
    "print('diagonal = {}'.format(diagonal))"
   ]
  },
  {
   "cell_type": "code",
   "execution_count": 52,
   "metadata": {
    "collapsed": false
   },
   "outputs": [
    {
     "name": "stdout",
     "output_type": "stream",
     "text": [
      "Help on function where in module tensorflow.python.ops.array_ops:\n",
      "\n",
      "where(condition, x=None, y=None, name=None)\n",
      "    Return the elements, either from `x` or `y`, depending on the `condition`.\n",
      "    \n",
      "    If both `x` and `y` are None, then this operation returns the coordinates of\n",
      "    true elements of `condition`.  The coordinates are returned in a 2-D tensor\n",
      "    where the first dimension (rows) represents the number of true elements, and\n",
      "    the second dimension (columns) represents the coordinates of the true\n",
      "    elements. Keep in mind, the shape of the output tensor can vary depending on\n",
      "    how many true values there are in input. Indices are output in row-major\n",
      "    order.\n",
      "    \n",
      "    If both non-None, `x` and `y` must have the same shape.\n",
      "    The `condition` tensor must be a scalar if `x` and `y` are scalar.\n",
      "    If `x` and `y` are vectors or higher rank, then `condition` must be either a\n",
      "    vector with size matching the first dimension of `x`, or must have the same\n",
      "    shape as `x`.\n",
      "    \n",
      "    The `condition` tensor acts as a mask that chooses, based on the value at each\n",
      "    element, whether the corresponding element / row in the output should be taken\n",
      "    from `x` (if true) or `y` (if false).\n",
      "    \n",
      "    If `condition` is a vector and `x` and `y` are higher rank matrices, then it\n",
      "    chooses which row (outer dimension) to copy from `x` and `y`. If `condition`\n",
      "    has the same shape as `x` and `y`, then it chooses which element to copy from\n",
      "    `x` and `y`.\n",
      "    \n",
      "    Args:\n",
      "      condition: A `Tensor` of type `bool`\n",
      "      x: A Tensor which may have the same shape as `condition`. If `condition` is\n",
      "        rank 1, `x` may have higher rank, but its first dimension must match the\n",
      "        size of `condition`.\n",
      "      y: A `tensor` with the same shape and type as `x`.\n",
      "      name: A name of the operation (optional)\n",
      "    \n",
      "    Returns:\n",
      "      A `Tensor` with the same type and shape as `x`, `y` if they are non-None.\n",
      "      A `Tensor` with shape `(num_true, dim_size(condition))`.\n",
      "    \n",
      "    Raises:\n",
      "      ValueError: When exactly one of `x` or `y` is non-None.\n",
      "\n"
     ]
    },
    {
     "data": {
      "image/png": "[encoded data removed]",
      "text/plain": [
       "<matplotlib.figure.Figure at 0x120e49240>"
      ]
     },
     "metadata": {},
     "output_type": "display_data"
    },
    {
     "data": {
      "image/png": "[encoded data removed]",
      "text/plain": [
       "<matplotlib.figure.Figure at 0x12132a828>"
      ]
     },
     "metadata": {},
     "output_type": "display_data"
    }
   ],
   "source": [
    "# ReLU implementation\n",
    "\n",
    "help(tf.where)\n",
    "x = tf.placeholder(tf.float32, name='x')\n",
    "g = tf.where(tf.less(x, 0.0), 0.2 * x, x, name='leaky_relu')\n",
    "h = tf.where(tf.less(x, 0.0), 0.0 * x, x, name='lelu')\n",
    "with tf.Session() as sess:\n",
    "    x_val = np.linspace(-10, 10, 100)\n",
    "    y = sess.run(g, feed_dict={x: x_val})\n",
    "    z = sess.run(h, feed_dict={x: x_val})\n",
    "    plt.plot(x_val, y)\n",
    "    plt.title('leaky_relu')\n",
    "    plt.show()\n",
    "    plt.plot(x_val, z)\n",
    "    plt.title('relu')\n",
    "    plt.show()"
   ]
  },
  {
   "cell_type": "code",
   "execution_count": 55,
   "metadata": {
    "collapsed": false
   },
   "outputs": [
    {
     "data": {
      "text/plain": [
       "[1, 2, 3, 4, 5, 6, 7, 8, 9]"
      ]
     },
     "execution_count": 55,
     "metadata": {},
     "output_type": "execute_result"
    }
   ],
   "source": [
    "# six.moves.range\n",
    "# six - Utilities for writing code that runs on Python 2 and 3\n",
    "\n",
    "[i for i in six.moves.range(1, 10)]"
   ]
  },
  {
   "cell_type": "code",
   "execution_count": 58,
   "metadata": {
    "collapsed": false
   },
   "outputs": [
    {
     "name": "stdout",
     "output_type": "stream",
     "text": [
      "Help on function moments in module tensorflow.python.ops.nn_impl:\n",
      "\n",
      "moments(x, axes, shift=None, name=None, keep_dims=False)\n",
      "    Calculate the mean and variance of `x`.\n",
      "    \n",
      "    The mean and variance are calculated by aggregating the contents of `x`\n",
      "    across `axes`.  If `x` is 1-D and `axes = [0]` this is just the mean\n",
      "    and variance of a vector.\n",
      "    \n",
      "    Note: for numerical stability, when shift=None, the true mean\n",
      "    would be computed and used as shift.\n",
      "    \n",
      "    When using these moments for batch normalization (see\n",
      "    `tf.nn.batch_normalization`):\n",
      "    \n",
      "     * for so-called \"global normalization\", used with convolutional filters with\n",
      "       shape `[batch, height, width, depth]`, pass `axes=[0, 1, 2]`.\n",
      "     * for simple batch normalization pass `axes=[0]` (batch only).\n",
      "    \n",
      "    Args:\n",
      "      x: A `Tensor`.\n",
      "      axes: Array of ints.  Axes along which to compute mean and\n",
      "        variance.\n",
      "      shift: A `Tensor` containing the value by which to shift the data for\n",
      "        numerical stability, or `None` in which case the true mean of the data is\n",
      "        used as shift. A shift close to the true mean provides the most\n",
      "        numerically stable results.\n",
      "      name: Name used to scope the operations that compute the moments.\n",
      "      keep_dims: produce moments with the same dimensionality as the input.\n",
      "    \n",
      "    Returns:\n",
      "      Two `Tensor` objects: `mean` and `variance`.\n",
      "\n"
     ]
    },
    {
     "data": {
      "text/plain": [
       "(array([ 5.15407991,  5.24324226,  4.86346626], dtype=float32),\n",
       " array([ 3.77601647,  3.49784541,  3.76421189], dtype=float32))"
      ]
     },
     "execution_count": 58,
     "metadata": {},
     "output_type": "execute_result"
    }
   ],
   "source": [
    "# tf.nn.moments\n",
    "# Calculate the mean and variance of `x`.\n",
    "\n",
    "help(tf.nn.moments)\n",
    "\n",
    "x = tf.placeholder(tf.float32, name='x')\n",
    "g = tf.nn.moments(x, [0], name='moments')\n",
    "\n",
    "with tf.Session() as sess:\n",
    "    mean, variance = sess.run(g, feed_dict={x: np.random.normal(5.0, 2.0, (100, 3))})\n",
    "\n",
    "mean, variance"
   ]
  },
  {
   "cell_type": "code",
   "execution_count": 60,
   "metadata": {
    "collapsed": false
   },
   "outputs": [
    {
     "name": "stdout",
     "output_type": "stream",
     "text": [
      "Help on function assign_moving_average in module tensorflow.python.training.moving_averages:\n",
      "\n",
      "assign_moving_average(variable, value, decay, zero_debias=True, name=None)\n",
      "    Compute the moving average of a variable.\n",
      "    \n",
      "    The moving average of 'variable' updated with 'value' is:\n",
      "      variable * decay + value * (1 - decay)\n",
      "    \n",
      "    The returned Operation sets 'variable' to the newly computed moving average.\n",
      "    \n",
      "    The new value of 'variable' can be set with the 'AssignSub' op as:\n",
      "       variable -= (1 - decay) * (variable - value)\n",
      "    \n",
      "    Since variables that are initialized to a `0` value will be `0` biased,\n",
      "    `zero_debias` optionally enables scaling by the mathematically correct\n",
      "    debiasing factor of\n",
      "      1 - decay ** num_updates\n",
      "    See `ADAM: A Method for Stochastic Optimization` Section 3 for more details\n",
      "    (https://arxiv.org/abs/1412.6980).\n",
      "    \n",
      "    Args:\n",
      "      variable: A Variable.\n",
      "      value: A tensor with the same shape as 'variable'.\n",
      "      decay: A float Tensor or float value.  The moving average decay.\n",
      "      zero_debias: A python bool. If true, assume the variable is 0-intialized and\n",
      "        unbias it, as in https://arxiv.org/abs/1412.6980. See docstring in\n",
      "        `_zero_debias` for more details.\n",
      "      name: Optional name of the returned operation.\n",
      "    \n",
      "    Returns:\n",
      "      An Operation that updates 'variable' with the newly computed\n",
      "      moving average.\n",
      "\n"
     ]
    }
   ],
   "source": [
    "from tensorflow.python.training import moving_averages\n",
    "\n",
    "help(moving_averages.assign_moving_average)"
   ]
  },
  {
   "cell_type": "code",
   "execution_count": 61,
   "metadata": {
    "collapsed": false
   },
   "outputs": [
    {
     "name": "stdout",
     "output_type": "stream",
     "text": [
      "Help on function batch_normalization in module tensorflow.python.ops.nn_impl:\n",
      "\n",
      "batch_normalization(x, mean, variance, offset, scale, variance_epsilon, name=None)\n",
      "    Batch normalization.\n",
      "    \n",
      "    As described in http://arxiv.org/abs/1502.03167.\n",
      "    Normalizes a tensor by `mean` and `variance`, and applies (optionally) a\n",
      "    `scale` \\\\(\\gamma\\\\) to it, as well as an `offset` \\\\(\\beta\\\\):\n",
      "    \n",
      "    \\\\(\\frac{\\gamma(x-\\mu)}{\\sigma}+\\beta\\\\)\n",
      "    \n",
      "    `mean`, `variance`, `offset` and `scale` are all expected to be of one of two\n",
      "    shapes:\n",
      "    \n",
      "      * In all generality, they can have the same number of dimensions as the\n",
      "        input `x`, with identical sizes as `x` for the dimensions that are not\n",
      "        normalized over (the 'depth' dimension(s)), and dimension 1 for the\n",
      "        others which are being normalized over.\n",
      "        `mean` and `variance` in this case would typically be the outputs of\n",
      "        `tf.nn.moments(..., keep_dims=True)` during training, or running averages\n",
      "        thereof during inference.\n",
      "      * In the common case where the 'depth' dimension is the last dimension in\n",
      "        the input tensor `x`, they may be one dimensional tensors of the same\n",
      "        size as the 'depth' dimension.\n",
      "        This is the case for example for the common `[batch, depth]` layout of\n",
      "        fully-connected layers, and `[batch, height, width, depth]` for\n",
      "        convolutions.\n",
      "        `mean` and `variance` in this case would typically be the outputs of\n",
      "        `tf.nn.moments(..., keep_dims=False)` during training, or running averages\n",
      "        thereof during inference.\n",
      "    \n",
      "    Args:\n",
      "      x: Input `Tensor` of arbitrary dimensionality.\n",
      "      mean: A mean `Tensor`.\n",
      "      variance: A variance `Tensor`.\n",
      "      offset: An offset `Tensor`, often denoted \\\\(\\beta\\\\) in equations, or\n",
      "        None. If present, will be added to the normalized tensor.\n",
      "      scale: A scale `Tensor`, often denoted \\\\(\\gamma\\\\) in equations, or\n",
      "        `None`. If present, the scale is applied to the normalized tensor.\n",
      "      variance_epsilon: A small float number to avoid dividing by 0.\n",
      "      name: A name for this operation (optional).\n",
      "    \n",
      "    Returns:\n",
      "      the normalized, scaled, offset tensor.\n",
      "\n"
     ]
    }
   ],
   "source": [
    "help(tf.nn.batch_normalization)"
   ]
  },
  {
   "cell_type": "code",
   "execution_count": 72,
   "metadata": {
    "collapsed": false
   },
   "outputs": [
    {
     "name": "stdout",
     "output_type": "stream",
     "text": [
      "Help on function pad in module tensorflow.python.ops.array_ops:\n",
      "\n",
      "pad(tensor, paddings, mode='CONSTANT', name=None)\n",
      "    Pads a tensor.\n",
      "    \n",
      "    This operation pads a `tensor` according to the `paddings` you specify.\n",
      "    `paddings` is an integer tensor with shape `[n, 2]`, where n is the rank of\n",
      "    `tensor`. For each dimension D of `input`, `paddings[D, 0]` indicates how\n",
      "    many values to add before the contents of `tensor` in that dimension, and\n",
      "    `paddings[D, 1]` indicates how many values to add after the contents of\n",
      "    `tensor` in that dimension. If `mode` is \"REFLECT\" then both `paddings[D, 0]`\n",
      "    and `paddings[D, 1]` must be no greater than `tensor.dim_size(D) - 1`. If\n",
      "    `mode` is \"SYMMETRIC\" then both `paddings[D, 0]` and `paddings[D, 1]` must be\n",
      "    no greater than `tensor.dim_size(D)`.\n",
      "    \n",
      "    The padded size of each dimension D of the output is:\n",
      "    \n",
      "    `paddings[D, 0] + tensor.dim_size(D) + paddings[D, 1]`\n",
      "    \n",
      "    For example:\n",
      "    \n",
      "    ```python\n",
      "    # 't' is [[1, 2, 3], [4, 5, 6]].\n",
      "    # 'paddings' is [[1, 1,], [2, 2]].\n",
      "    # rank of 't' is 2.\n",
      "    pad(t, paddings, \"CONSTANT\") ==> [[0, 0, 0, 0, 0, 0, 0],\n",
      "                                      [0, 0, 1, 2, 3, 0, 0],\n",
      "                                      [0, 0, 4, 5, 6, 0, 0],\n",
      "                                      [0, 0, 0, 0, 0, 0, 0]]\n",
      "    \n",
      "    pad(t, paddings, \"REFLECT\") ==> [[6, 5, 4, 5, 6, 5, 4],\n",
      "                                     [3, 2, 1, 2, 3, 2, 1],\n",
      "                                     [6, 5, 4, 5, 6, 5, 4],\n",
      "                                     [3, 2, 1, 2, 3, 2, 1]]\n",
      "    \n",
      "    pad(t, paddings, \"SYMMETRIC\") ==> [[2, 1, 1, 2, 3, 3, 2],\n",
      "                                       [2, 1, 1, 2, 3, 3, 2],\n",
      "                                       [5, 4, 4, 5, 6, 6, 5],\n",
      "                                       [5, 4, 4, 5, 6, 6, 5]]\n",
      "    ```\n",
      "    \n",
      "    Args:\n",
      "      tensor: A `Tensor`.\n",
      "      paddings: A `Tensor` of type `int32`.\n",
      "      mode: One of \"CONSTANT\", \"REFLECT\", or \"SYMMETRIC\" (case-insensitive)\n",
      "      name: A name for the operation (optional).\n",
      "    \n",
      "    Returns:\n",
      "      A `Tensor`. Has the same type as `tensor`.\n",
      "    \n",
      "    Raises:\n",
      "      ValueError: When mode is not one of \"CONSTANT\", \"REFLECT\", or \"SYMMETRIC\".\n",
      "\n",
      "a = [[0 1 2 3 0]\n",
      " [0 4 5 6 0]]\n",
      "b = [[0 0 0]\n",
      " [1 2 3]\n",
      " [4 5 6]\n",
      " [0 0 0]]\n"
     ]
    }
   ],
   "source": [
    "# tf.pad\n",
    "help(tf.pad)\n",
    "\n",
    "x = tf.placeholder(tf.int32, name='x')\n",
    "g = tf.pad(x, [[0,0], [1,1]])\n",
    "h = tf.pad(x, [[1,1], [0,0]])\n",
    "\n",
    "with tf.Session() as sess:\n",
    "    a = sess.run(g, feed_dict={x: [[1,2, 3], [4,5,6]]})\n",
    "    b = sess.run(h, feed_dict={x: [[1,2, 3], [4,5,6]]})\n",
    "print('a = {}'.format(a))\n",
    "print('b = {}'.format(b))"
   ]
  },
  {
   "cell_type": "code",
   "execution_count": 3,
   "metadata": {
    "collapsed": false
   },
   "outputs": [
    {
     "name": "stdout",
     "output_type": "stream",
     "text": [
      "Help on function l2_loss in module tensorflow.python.ops.gen_nn_ops:\n",
      "\n",
      "l2_loss(t, name=None)\n",
      "    L2 Loss.\n",
      "    \n",
      "    Computes half the L2 norm of a tensor without the `sqrt`:\n",
      "    \n",
      "        output = sum(t ** 2) / 2\n",
      "    \n",
      "    Args:\n",
      "      t: A `Tensor`. Must be one of the following types: `float32`, `float64`, `int64`, `int32`, `uint8`, `uint16`, `int16`, `int8`, `complex64`, `complex128`, `qint8`, `quint8`, `qint32`, `half`.\n",
      "        Typically 2-D, but may have any dimensions.\n",
      "      name: A name for the operation (optional).\n",
      "    \n",
      "    Returns:\n",
      "      A `Tensor`. Has the same type as `t`. 0-D.\n",
      "\n"
     ]
    },
    {
     "data": {
      "text/plain": [
       "(7.0, 7.0)"
      ]
     },
     "execution_count": 3,
     "metadata": {},
     "output_type": "execute_result"
    }
   ],
   "source": [
    "# tf.nn.l2_loss\n",
    "\n",
    "help(tf.nn.l2_loss)\n",
    "\n",
    "v = tf.constant([1.,2.,3.], dtype=tf.float32, name='v')\n",
    "g = tf.nn.l2_loss(v)\n",
    "\n",
    "with tf.Session() as sess:\n",
    "    a = sess.run(g)\n",
    "a, (1**2 + 2**2 + 3**2)/2"
   ]
  },
  {
   "cell_type": "code",
   "execution_count": 8,
   "metadata": {
    "collapsed": false
   },
   "outputs": [
    {
     "name": "stdout",
     "output_type": "stream",
     "text": [
      "Help on function add_n in module tensorflow.python.ops.math_ops:\n",
      "\n",
      "add_n(inputs, name=None)\n",
      "    Adds all input tensors element-wise.\n",
      "    \n",
      "    Args:\n",
      "      inputs: A list of `Tensor` objects, each with same shape and type.\n",
      "      name: A name for the operation (optional).\n",
      "    \n",
      "    Returns:\n",
      "      A `Tensor` of same shape and type as the elements of `inputs`.\n",
      "    \n",
      "    Raises:\n",
      "      ValueError: If `inputs` don't all have same shape and dtype or the shape\n",
      "      cannot be inferred.\n",
      "\n"
     ]
    },
    {
     "data": {
      "text/plain": [
       "(array([12, 15, 18], dtype=int32), array([12, 15, 18]))"
      ]
     },
     "execution_count": 8,
     "metadata": {},
     "output_type": "execute_result"
    }
   ],
   "source": [
    "# tf.add_n\n",
    "\n",
    "help(tf.add_n)\n",
    "\n",
    "a = tf.constant([1,2,3], dtype=tf.int32)\n",
    "b = tf.constant([4,5,6], dtype=tf.int32)\n",
    "c = tf.constant([7,8,9], dtype=tf.int32)\n",
    "g = tf.add_n([a,b,c])\n",
    "\n",
    "with tf.Session() as sess:\n",
    "    z = sess.run(g)\n",
    "z, np.sum([[1,2,3], [4,5,6], [7,8,9]], axis=0)"
   ]
  }
 ],
 "metadata": {
  "kernelspec": {
   "display_name": "Python 3",
   "language": "python",
   "name": "python3"
  },
  "language_info": {
   "codemirror_mode": {
    "name": "ipython",
    "version": 3
   },
   "file_extension": ".py",
   "mimetype": "text/x-python",
   "name": "python",
   "nbconvert_exporter": "python",
   "pygments_lexer": "ipython3",
   "version": "3.5.2"
  }
 },
 "nbformat": 4,
 "nbformat_minor": 0
}
