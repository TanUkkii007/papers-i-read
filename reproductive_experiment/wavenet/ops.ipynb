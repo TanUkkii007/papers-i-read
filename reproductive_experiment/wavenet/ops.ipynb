{
 "cells": [
  {
   "cell_type": "code",
   "execution_count": 1,
   "metadata": {
    "collapsed": true
   },
   "outputs": [],
   "source": [
    "import tensorflow as tf\n",
    "import numpy as np\n",
    "from ops import *"
   ]
  },
  {
   "cell_type": "code",
   "execution_count": 2,
   "metadata": {
    "collapsed": true
   },
   "outputs": [],
   "source": [
    "sess = tf.InteractiveSession()"
   ]
  },
  {
   "cell_type": "code",
   "execution_count": 9,
   "metadata": {
    "collapsed": false
   },
   "outputs": [
    {
     "name": "stdout",
     "output_type": "stream",
     "text": [
      "(1, 2, 3)\n",
      "(1, 2, 3)\n",
      "[[[1 2 3]\n",
      "  [4 5 6]]]\n",
      "(2, 1, 3)\n",
      "[[[1 2 3]]\n",
      "\n",
      " [[4 5 6]]]\n",
      "(5, 1, 3)\n",
      "[[[1 2 3]]\n",
      "\n",
      " [[4 5 6]]\n",
      "\n",
      " [[0 0 0]]\n",
      "\n",
      " [[0 0 0]]\n",
      "\n",
      " [[0 0 0]]]\n"
     ]
    }
   ],
   "source": [
    "# ops.time_to_batch\n",
    "\n",
    "value = tf.constant([\n",
    "    [\n",
    "        [1,2,3],\n",
    "        [4,5,6]\n",
    "    ]\n",
    "])\n",
    "\n",
    "print(value.shape)\n",
    "\n",
    "x = time_to_batch(value, dilation=1)\n",
    "y = time_to_batch(value, dilation=2)\n",
    "z = time_to_batch(value, dilation=5)\n",
    "\n",
    "x,y,z = sess.run([x, y, z])\n",
    "\n",
    "print(np.array(x).shape)\n",
    "print(x)\n",
    "print(np.array(y).shape)\n",
    "print(y)\n",
    "print(np.array(z).shape)\n",
    "print(z)"
   ]
  },
  {
   "cell_type": "code",
   "execution_count": 8,
   "metadata": {
    "collapsed": false
   },
   "outputs": [
    {
     "name": "stdout",
     "output_type": "stream",
     "text": [
      "(1, 2, 3)\n",
      "(1, 2, 3)\n",
      "[[[1 2 3]\n",
      "  [4 5 6]]]\n",
      "(1, 2, 3)\n",
      "[[[1 2 3]\n",
      "  [4 5 6]]]\n",
      "(1, 5, 3)\n",
      "[[[1 2 3]\n",
      "  [4 5 6]\n",
      "  [0 0 0]\n",
      "  [0 0 0]\n",
      "  [0 0 0]]]\n"
     ]
    }
   ],
   "source": [
    "# ops.batch_to_time\n",
    "\n",
    "value = tf.constant([\n",
    "    [\n",
    "        [1,2,3],\n",
    "        [4,5,6]\n",
    "    ]\n",
    "])\n",
    "\n",
    "print(value.shape)\n",
    "\n",
    "x = time_to_batch(value, dilation=1)\n",
    "y = time_to_batch(value, dilation=2)\n",
    "z = time_to_batch(value, dilation=5)\n",
    "\n",
    "x = batch_to_time(x, dilation=1)\n",
    "y = batch_to_time(y, dilation=2)\n",
    "z = batch_to_time(z, dilation=5)\n",
    "\n",
    "x,y,z = sess.run([x, y, z])\n",
    "\n",
    "print(np.array(x).shape)\n",
    "print(x)\n",
    "print(np.array(y).shape)\n",
    "print(y)\n",
    "print(np.array(z).shape)\n",
    "print(z)"
   ]
  }
 ],
 "metadata": {
  "kernelspec": {
   "display_name": "Python 3",
   "language": "python",
   "name": "python3"
  },
  "language_info": {
   "codemirror_mode": {
    "name": "ipython",
    "version": 3
   },
   "file_extension": ".py",
   "mimetype": "text/x-python",
   "name": "python",
   "nbconvert_exporter": "python",
   "pygments_lexer": "ipython3",
   "version": "3.5.3"
  }
 },
 "nbformat": 4,
 "nbformat_minor": 2
}
