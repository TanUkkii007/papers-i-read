{
 "cells": [
  {
   "cell_type": "code",
   "execution_count": 1,
   "metadata": {
    "collapsed": true
   },
   "outputs": [],
   "source": [
    "import tensorflow as tf\n",
    "import numpy as np"
   ]
  },
  {
   "cell_type": "code",
   "execution_count": 2,
   "metadata": {
    "collapsed": true
   },
   "outputs": [],
   "source": [
    "sess = tf.InteractiveSession()"
   ]
  },
  {
   "cell_type": "code",
   "execution_count": 8,
   "metadata": {
    "collapsed": false
   },
   "outputs": [
    {
     "data": {
      "text/plain": [
       "array([[[10, 11, 12],\n",
       "        [13, 14, 15],\n",
       "        [16, 17, 18],\n",
       "        [19, 20, 21]]], dtype=int32)"
      ]
     },
     "execution_count": 8,
     "metadata": {},
     "output_type": "execute_result"
    }
   ],
   "source": [
    "# tf.slice in _create_dilation_layer\n",
    "\n",
    "''' If `size[i]` is -1,\n",
    "  all remaining elements in dimension i are included in the slice.\n",
    "'''\n",
    "\n",
    "skip_cut = 3\n",
    "\n",
    "x = tf.constant([\n",
    "    [\n",
    "        [1,2,3],\n",
    "        [4,5,6],\n",
    "        [7,8,9],\n",
    "        [10,11,12],\n",
    "        [13,14,15],\n",
    "        [16,17,18],\n",
    "        [19,20,21]\n",
    "    ]\n",
    "])\n",
    "\n",
    "y = tf.slice(x, begin=[0,skip_cut,0], size=[-1,-1,-1])\n",
    "\n",
    "sess.run(y)"
   ]
  }
 ],
 "metadata": {
  "kernelspec": {
   "display_name": "Python 3",
   "language": "python",
   "name": "python3"
  },
  "language_info": {
   "codemirror_mode": {
    "name": "ipython",
    "version": 3
   },
   "file_extension": ".py",
   "mimetype": "text/x-python",
   "name": "python",
   "nbconvert_exporter": "python",
   "pygments_lexer": "ipython3",
   "version": "3.5.3"
  }
 },
 "nbformat": 4,
 "nbformat_minor": 2
}
