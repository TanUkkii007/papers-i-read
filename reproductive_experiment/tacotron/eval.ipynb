{
 "cells": [
  {
   "cell_type": "code",
   "execution_count": 1,
   "metadata": {
    "collapsed": true
   },
   "outputs": [],
   "source": [
    "import tensorflow as tf\n",
    "import numpy as np"
   ]
  },
  {
   "cell_type": "code",
   "execution_count": 4,
   "metadata": {
    "collapsed": true
   },
   "outputs": [],
   "source": [
    "sess = tf.InteractiveSession()"
   ]
  },
  {
   "cell_type": "code",
   "execution_count": 5,
   "metadata": {
    "collapsed": false
   },
   "outputs": [
    {
     "name": "stdout",
     "output_type": "stream",
     "text": [
      "(1, 5, 3)\n",
      "Help on function transpose in module tensorflow.python.ops.array_ops:\n",
      "\n",
      "transpose(a, perm=None, name='transpose')\n",
      "    Transposes `a`. Permutes the dimensions according to `perm`.\n",
      "    \n",
      "    The returned tensor's dimension i will correspond to the input dimension\n",
      "    `perm[i]`. If `perm` is not given, it is set to (n-1...0), where n is\n",
      "    the rank of the input tensor. Hence by default, this operation performs a\n",
      "    regular matrix transpose on 2-D input Tensors.\n",
      "    \n",
      "    For example:\n",
      "    \n",
      "    ```python\n",
      "    # 'x' is [[1 2 3]\n",
      "    #         [4 5 6]]\n",
      "    tf.transpose(x) ==> [[1 4]\n",
      "                         [2 5]\n",
      "                         [3 6]]\n",
      "    \n",
      "    # Equivalently\n",
      "    tf.transpose(x, perm=[1, 0]) ==> [[1 4]\n",
      "                                      [2 5]\n",
      "                                      [3 6]]\n",
      "    \n",
      "    # 'perm' is more useful for n-dimensional tensors, for n > 2\n",
      "    # 'x' is   [[[1  2  3]\n",
      "    #            [4  5  6]]\n",
      "    #           [[7  8  9]\n",
      "    #            [10 11 12]]]\n",
      "    # Take the transpose of the matrices in dimension-0\n",
      "    tf.transpose(x, perm=[0, 2, 1]) ==> [[[1  4]\n",
      "                                          [2  5]\n",
      "                                          [3  6]]\n",
      "    \n",
      "                                         [[7 10]\n",
      "                                          [8 11]\n",
      "                                          [9 12]]]\n",
      "    ```\n",
      "    \n",
      "    Args:\n",
      "      a: A `Tensor`.\n",
      "      perm: A permutation of the dimensions of `a`.\n",
      "      name: A name for the operation (optional).\n",
      "    \n",
      "    Returns:\n",
      "      A transposed `Tensor`.\n",
      "\n",
      "(5, 1, 3)\n"
     ]
    },
    {
     "data": {
      "text/plain": [
       "array([[[ 0,  1,  2]],\n",
       "\n",
       "       [[ 3,  4,  5]],\n",
       "\n",
       "       [[ 6,  7,  8]],\n",
       "\n",
       "       [[ 9, 10, 11]],\n",
       "\n",
       "       [[12, 13, 14]]], dtype=int32)"
      ]
     },
     "execution_count": 5,
     "metadata": {},
     "output_type": "execute_result"
    }
   ],
   "source": [
    "t = tf.constant([\n",
    "    [\n",
    "        [0,1,2],\n",
    "        [3,4,5],\n",
    "        [6,7,8],\n",
    "        [9,10,11],\n",
    "        [12,13,14]\n",
    "    ]\n",
    "])\n",
    "\n",
    "print(t.shape)\n",
    "\n",
    "help(tf.transpose)\n",
    "\n",
    "tt = tf.transpose(t, perm=[1,0,2])\n",
    "\n",
    "print(tt.shape)\n",
    "\n",
    "sess.run(tt)"
   ]
  }
 ],
 "metadata": {
  "kernelspec": {
   "display_name": "Python 3",
   "language": "python",
   "name": "python3"
  },
  "language_info": {
   "codemirror_mode": {
    "name": "ipython",
    "version": 3
   },
   "file_extension": ".py",
   "mimetype": "text/x-python",
   "name": "python",
   "nbconvert_exporter": "python",
   "pygments_lexer": "ipython3",
   "version": "3.5.3"
  }
 },
 "nbformat": 4,
 "nbformat_minor": 2
}
