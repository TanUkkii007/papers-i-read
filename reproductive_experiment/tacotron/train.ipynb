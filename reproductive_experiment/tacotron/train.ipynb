{
 "cells": [
  {
   "cell_type": "code",
   "execution_count": 20,
   "metadata": {
    "collapsed": true
   },
   "outputs": [],
   "source": [
    "import tensorflow as tf\n",
    "import numpy as np\n",
    "import matplotlib.pyplot as plt"
   ]
  },
  {
   "cell_type": "code",
   "execution_count": 2,
   "metadata": {
    "collapsed": true
   },
   "outputs": [],
   "source": [
    "sess = tf.InteractiveSession()"
   ]
  },
  {
   "cell_type": "code",
   "execution_count": 23,
   "metadata": {
    "collapsed": false
   },
   "outputs": [
    {
     "name": "stdout",
     "output_type": "stream",
     "text": [
      "Help on function exponential_decay in module tensorflow.python.training.learning_rate_decay:\n",
      "\n",
      "exponential_decay(learning_rate, global_step, decay_steps, decay_rate, staircase=False, name=None)\n",
      "    Applies exponential decay to the learning rate.\n",
      "    \n",
      "    When training a model, it is often recommended to lower the learning rate as\n",
      "    the training progresses.  This function applies an exponential decay function\n",
      "    to a provided initial learning rate.  It requires a `global_step` value to\n",
      "    compute the decayed learning rate.  You can just pass a TensorFlow variable\n",
      "    that you increment at each training step.\n",
      "    \n",
      "    The function returns the decayed learning rate.  It is computed as:\n",
      "    \n",
      "    ```python\n",
      "    decayed_learning_rate = learning_rate *\n",
      "                            decay_rate ^ (global_step / decay_steps)\n",
      "    ```\n",
      "    \n",
      "    If the argument `staircase` is `True`, then `global_step / decay_steps` is an\n",
      "    integer division and the decayed learning rate follows a staircase function.\n",
      "    \n",
      "    Example: decay every 100000 steps with a base of 0.96:\n",
      "    \n",
      "    ```python\n",
      "    ...\n",
      "    global_step = tf.Variable(0, trainable=False)\n",
      "    starter_learning_rate = 0.1\n",
      "    learning_rate = tf.train.exponential_decay(starter_learning_rate, global_step,\n",
      "                                               100000, 0.96, staircase=True)\n",
      "    # Passing global_step to minimize() will increment it at each step.\n",
      "    learning_step = (\n",
      "        tf.train.GradientDescentOptimizer(learning_rate)\n",
      "        .minimize(...my loss..., global_step=global_step)\n",
      "    )\n",
      "    ```\n",
      "    \n",
      "    Args:\n",
      "      learning_rate: A scalar `float32` or `float64` `Tensor` or a\n",
      "        Python number.  The initial learning rate.\n",
      "      global_step: A scalar `int32` or `int64` `Tensor` or a Python number.\n",
      "        Global step to use for the decay computation.  Must not be negative.\n",
      "      decay_steps: A scalar `int32` or `int64` `Tensor` or a Python number.\n",
      "        Must be positive.  See the decay computation above.\n",
      "      decay_rate: A scalar `float32` or `float64` `Tensor` or a\n",
      "        Python number.  The decay rate.\n",
      "      staircase: Boolean.  If `True` decay the learning rate at discrete intervals\n",
      "      name: String.  Optional name of the operation.  Defaults to\n",
      "        'ExponentialDecay'.\n",
      "    \n",
      "    Returns:\n",
      "      A scalar `Tensor` of the same type as `learning_rate`.  The decayed\n",
      "      learning rate.\n",
      "    \n",
      "    Raises:\n",
      "      ValueError: if `global_step` is not supplied.\n",
      "\n",
      "[0.0049999999, 0.0046999999, 0.0044180001, 0.0041529196, 0.0039037447, 0.0036695199, 0.0034493487, 0.0032423877, 0.0030478446, 0.0028649739, 0.0026930755, 0.0025314908, 0.0023796014, 0.0022368254, 0.0021026158, 0.0019764588, 0.0018578714, 0.0017463991, 0.0016416152, 0.0015431182, 0.0014505312, 0.0013634993, 0.0012816893, 0.0012047879, 0.0011325007, 0.0010645506, 0.0010006776, 0.00094063691, 0.0008841987, 0.00083114672, 0.00078127789, 0.00073440123, 0.00069033715, 0.00064891693, 0.00060998194, 0.00057338306, 0.00053898006, 0.00050664129, 0.00047624277, 0.00044766819]\n"
     ]
    },
    {
     "data": {
      "image/png": "[encoded data removed]",
      "text/plain": [
       "<matplotlib.figure.Figure at 0x1028fc7f0>"
      ]
     },
     "metadata": {},
     "output_type": "display_data"
    }
   ],
   "source": [
    "# tf.train.exponential_decay\n",
    "\n",
    "help(tf.train.exponential_decay)\n",
    "\n",
    "global_step = tf.Variable(0, trainable=False)\n",
    "\n",
    "total_global_steps = 40*32\n",
    "\n",
    "learning_rate = tf.train.exponential_decay(learning_rate=0.005, global_step=global_step, decay_steps=32, decay_rate=0.94, staircase=True)\n",
    "\n",
    "sess.run(tf.global_variables_initializer())\n",
    "\n",
    "lr = []\n",
    "for i in range(0, 40):\n",
    "    sess.run(tf.assign(global_step, i * 32))\n",
    "    lr.append(sess.run(learning_rate))\n",
    "\n",
    "print(lr)\n",
    "\n",
    "plt.plot(range(0,40), lr)\n",
    "plt.show()"
   ]
  }
 ],
 "metadata": {
  "kernelspec": {
   "display_name": "Python 3",
   "language": "python",
   "name": "python3"
  },
  "language_info": {
   "codemirror_mode": {
    "name": "ipython",
    "version": 3
   },
   "file_extension": ".py",
   "mimetype": "text/x-python",
   "name": "python",
   "nbconvert_exporter": "python",
   "pygments_lexer": "ipython3",
   "version": "3.5.3"
  }
 },
 "nbformat": 4,
 "nbformat_minor": 2
}
