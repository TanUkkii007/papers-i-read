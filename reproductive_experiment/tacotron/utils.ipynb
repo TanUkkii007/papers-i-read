{
 "cells": [
  {
   "cell_type": "code",
   "execution_count": 1,
   "metadata": {
    "collapsed": true
   },
   "outputs": [],
   "source": [
    "import tensorflow as tf\n",
    "import numpy as np\n",
    "import matplotlib.pyplot as plt\n",
    "from utils import *"
   ]
  },
  {
   "cell_type": "code",
   "execution_count": 2,
   "metadata": {
    "collapsed": true
   },
   "outputs": [],
   "source": [
    "sess = tf.InteractiveSession()"
   ]
  },
  {
   "cell_type": "code",
   "execution_count": 3,
   "metadata": {
    "collapsed": false
   },
   "outputs": [
    {
     "data": {
      "text/plain": [
       "array([0, 0, 0, 0, 0, 0, 0, 0, 0, 0], dtype=int32)"
      ]
     },
     "execution_count": 3,
     "metadata": {},
     "output_type": "execute_result"
    }
   ],
   "source": [
    "# tf.zeros_like\n",
    "\n",
    "t = tf.constant([0,1,2,3,4,5,6,7,8,9])\n",
    "\n",
    "g = tf.zeros_like(t)\n",
    "\n",
    "sess.run(g)"
   ]
  },
  {
   "cell_type": "code",
   "execution_count": 4,
   "metadata": {
    "collapsed": false,
    "scrolled": true
   },
   "outputs": [
    {
     "name": "stdout",
     "output_type": "stream",
     "text": [
      "a = [[[1 2]\n",
      "  [3 4]\n",
      "  [5 6]]]\n",
      "b = [[[1 2]]\n",
      "\n",
      " [[7 8]]]\n",
      "c = [[[ 1]\n",
      "  [ 3]\n",
      "  [ 5]]\n",
      "\n",
      " [[ 7]\n",
      "  [ 9]\n",
      "  [11]]]\n",
      "d = [[[ 1  2]\n",
      "  [ 3  4]]\n",
      "\n",
      " [[ 7  8]\n",
      "  [ 9 10]]]\n"
     ]
    },
    {
     "data": {
      "text/plain": [
       "(array([0], dtype=int32), array([0, 1, 2, 3, 4, 5, 6, 7, 8], dtype=int32))"
      ]
     },
     "execution_count": 4,
     "metadata": {},
     "output_type": "execute_result"
    }
   ],
   "source": [
    "# subscripting\n",
    "\n",
    "t = tf.constant([\n",
    "    [[1,2], [3,4], [5,6]],\n",
    "    [[7,8], [9,10], [11,12]]\n",
    "])\n",
    "\n",
    "a = sess.run(t[:1,:,:])\n",
    "b = sess.run(t[:,:1,:])\n",
    "c = sess.run(t[:,:,:1])\n",
    "d = sess.run(t[:,:-1,:])\n",
    "\n",
    "print(\"a = {}\".format(a))\n",
    "print(\"b = {}\".format(b))\n",
    "print(\"c = {}\".format(c))\n",
    "print(\"d = {}\".format(d))\n",
    "\n",
    "t = tf.constant([0,1,2,3,4,5,6,7,8,9])\n",
    "\n",
    "a = sess.run(t[:1])\n",
    "b = sess.run(t[:-1])\n",
    "a, b"
   ]
  },
  {
   "cell_type": "code",
   "execution_count": 12,
   "metadata": {
    "collapsed": false
   },
   "outputs": [
    {
     "name": "stdout",
     "output_type": "stream",
     "text": [
      "['STIXNonUnicode', 'DejaVu Sans Mono', 'DejaVu Sans', 'DejaVu Sans Mono', 'STIXSizeOneSym', 'STIXGeneral', 'STIXSizeFourSym', 'STIXSizeThreeSym', 'DejaVu Serif', 'STIXNonUnicode', 'DejaVu Sans', 'STIXSizeThreeSym', 'STIXNonUnicode', 'DejaVu Serif Display', 'cmss10', 'cmmi10', 'DejaVu Serif', 'STIXSizeFiveSym', 'STIXNonUnicode', 'DejaVu Sans Display', 'DejaVu Sans Mono', 'STIXSizeFourSym', 'DejaVu Serif', 'DejaVu Sans', 'DejaVu Sans Mono', 'cmtt10', 'cmsy10', 'STIXGeneral', 'STIXGeneral', 'STIXSizeTwoSym', 'cmr10', 'DejaVu Serif', 'DejaVu Sans', 'STIXGeneral', 'cmex10', 'STIXSizeOneSym', 'STIXSizeTwoSym', 'cmb10', 'STIXIntegralsUpSm', 'Comic Sans MS', 'Tahoma', 'Trebuchet MS', 'STHeiti', 'Hoefler Text', 'Apple SD Gothic Neo', 'Mshtakan', 'Tahoma', 'STIXIntegralsUpD', 'YuGothic', 'Trebuchet MS', '.Hiragino Kaku Gothic Interface', 'Weibei SC', 'Silom', 'Mshtakan', 'STIXGeneral', 'Courier New', 'Wingdings 3', 'Apple Braille', 'InaiMathi', 'Bodoni Ornaments', 'DIN Condensed', 'Apple SD Gothic Neo', 'Arial Narrow', 'STIXVariants', 'Gujarati MT', 'Chalkduster', 'Comic Sans MS', 'Hiragino Kaku Gothic Std', 'Apple SD Gothic Neo', 'SignPainter', 'STIXSizeOneSym', 'Apple Braille', 'Arial', 'Apple SD Gothic Neo', 'STIXSizeTwoSym', 'Verdana', 'Gurmukhi MT', 'Apple SD Gothic Neo', 'Kailasa', 'Gujarati MT', 'LiHei Pro', 'STIXIntegralsD', 'Hiragino Mincho Pro', 'Apple SD Gothic Neo', 'STIXIntegralsD', 'Verdana', 'STIXSizeThreeSym', 'Herculanum', 'STIXGeneral', 'Hiragino Maru Gothic ProN', 'Courier New', 'Microsoft Sans Serif', 'Ayuthaya', 'Arial Narrow', 'PCMyungjo', 'STIXIntegralsSm', 'STIXIntegralsUpSm', 'GungSeo', 'Georgia', 'LiSong Pro', 'STIXSizeOneSym', 'Apple Braille', 'STIXSizeFourSym', 'Andale Mono', 'Hiragino Kaku Gothic Pro', 'Mishafi Gold', 'Hiragino Mincho ProN', 'Hiragino Kaku Gothic ProN', 'Arial Rounded MT Bold', 'Weibei TC', 'Times New Roman', 'STFangsong', 'Zapfino', 'Trattatello', 'Osaka', 'Mshtakan', 'Webdings', 'Kokonor', 'STIXNonUnicode', 'Times New Roman', 'Bradley Hand', 'Luminari', 'STIXGeneral', 'Hiragino Sans GB', 'Mishafi', 'Brush Script MT', 'Georgia', 'Apple SD Gothic Neo', '.Keyboard', 'Diwan Thuluth', 'YuMincho', 'STIXNonUnicode', 'Wawati SC', 'Yuppy TC', 'Wingdings', 'Hiragino Mincho Pro', 'Impact', 'Courier New', 'Myanmar Sangam MN', 'Arial', 'STIXSizeFiveSym', 'Arial Black', 'STIXSizeFourSym', 'Times New Roman', 'Apple SD Gothic Neo', 'Sathu', 'Courier New', 'YuGothic', 'YuMincho', 'Hiragino Maru Gothic Pro', 'Symbol', 'STIXNonUnicode', 'Osaka', 'Trebuchet MS', 'Bodoni 72 Smallcaps', 'Times New Roman', 'Hiragino Mincho ProN', 'Verdana', 'Farisi', 'STIXGeneral', 'Lao Sangam MN', 'STIXIntegralsUp', 'Georgia', 'Skia', 'Wingdings 2', 'Hiragino Sans GB', 'Apple Chancery', 'STIXNonUnicode', 'STIXSizeTwoSym', 'Hiragino Kaku Gothic ProN', 'Verdana', 'AppleGothic', 'DIN Alternate', 'Arial Unicode MS', 'Apple Braille', 'AppleMyungjo', 'Mshtakan', 'STHeiti', 'Trebuchet MS', 'Arial Narrow', 'STIXSizeThreeSym', 'Wawati TC', 'Apple SD Gothic Neo', 'LastResort', '.Hiragino Kaku Gothic Interface', 'Plantagenet Cherokee', 'STIXIntegralsSm', 'Georgia', 'PilGi', 'Hiragino Kaku Gothic StdN', 'Arial', 'Hiragino Kaku Gothic Pro', 'Apple Braille', 'Arial Narrow', 'STIXIntegralsUpD', 'Zapf Dingbats', 'Big Caslon', 'Khmer Sangam MN', 'Yuppy SC', 'STIXIntegralsUp', 'STIXVariants', 'Arial', 'Krungthep', 'HeadLineA']\n"
     ]
    }
   ],
   "source": [
    "import matplotlib.font_manager\n",
    "print([f.name for f in matplotlib.font_manager.fontManager.ttflist])"
   ]
  },
  {
   "cell_type": "code",
   "execution_count": 16,
   "metadata": {
    "collapsed": false
   },
   "outputs": [
    {
     "data": {
      "image/png": "[encoded data removed]",
      "text/plain": [
       "<matplotlib.figure.Figure at 0x123cb46d8>"
      ]
     },
     "metadata": {},
     "output_type": "display_data"
    }
   ],
   "source": [
    "import matplotlib\n",
    "\n",
    "a = np.random.random((16, 16))\n",
    "matplotlib.rc('font', family='AppleGothic')\n",
    "visualize_attention(a, \"abcdefghijklmあいう\")\n",
    "\n",
    "plt.show()"
   ]
  }
 ],
 "metadata": {
  "kernelspec": {
   "display_name": "Python 3",
   "language": "python",
   "name": "python3"
  },
  "language_info": {
   "codemirror_mode": {
    "name": "ipython",
    "version": 3
   },
   "file_extension": ".py",
   "mimetype": "text/x-python",
   "name": "python",
   "nbconvert_exporter": "python",
   "pygments_lexer": "ipython3",
   "version": "3.5.3"
  }
 },
 "nbformat": 4,
 "nbformat_minor": 2
}
