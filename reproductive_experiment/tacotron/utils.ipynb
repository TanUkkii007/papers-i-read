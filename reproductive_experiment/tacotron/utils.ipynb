{
 "cells": [
  {
   "cell_type": "code",
   "execution_count": 1,
   "metadata": {
    "collapsed": true
   },
   "outputs": [],
   "source": [
    "import tensorflow as tf\n",
    "import numpy as np"
   ]
  },
  {
   "cell_type": "code",
   "execution_count": 2,
   "metadata": {
    "collapsed": true
   },
   "outputs": [],
   "source": [
    "sess = tf.InteractiveSession()"
   ]
  },
  {
   "cell_type": "code",
   "execution_count": 4,
   "metadata": {
    "collapsed": false
   },
   "outputs": [
    {
     "data": {
      "text/plain": [
       "array([0, 0, 0, 0, 0, 0, 0, 0, 0, 0], dtype=int32)"
      ]
     },
     "execution_count": 4,
     "metadata": {},
     "output_type": "execute_result"
    }
   ],
   "source": [
    "# tf.zeros_like\n",
    "\n",
    "t = tf.constant([0,1,2,3,4,5,6,7,8,9])\n",
    "\n",
    "g = tf.zeros_like(t)\n",
    "\n",
    "sess.run(g)"
   ]
  },
  {
   "cell_type": "code",
   "execution_count": 16,
   "metadata": {
    "collapsed": false
   },
   "outputs": [
    {
     "name": "stdout",
     "output_type": "stream",
     "text": [
      "a = [[[1 2]\n",
      "  [3 4]\n",
      "  [5 6]]]\n",
      "b = [[[1 2]]\n",
      "\n",
      " [[7 8]]]\n",
      "c = [[[ 1]\n",
      "  [ 3]\n",
      "  [ 5]]\n",
      "\n",
      " [[ 7]\n",
      "  [ 9]\n",
      "  [11]]]\n",
      "d = [[[ 1  2]\n",
      "  [ 3  4]]\n",
      "\n",
      " [[ 7  8]\n",
      "  [ 9 10]]]\n"
     ]
    },
    {
     "data": {
      "text/plain": [
       "(array([0], dtype=int32), array([0, 1, 2, 3, 4, 5, 6, 7, 8], dtype=int32))"
      ]
     },
     "execution_count": 16,
     "metadata": {},
     "output_type": "execute_result"
    }
   ],
   "source": [
    "# subscripting\n",
    "\n",
    "t = tf.constant([\n",
    "    [[1,2], [3,4], [5,6]],\n",
    "    [[7,8], [9,10], [11,12]]\n",
    "])\n",
    "\n",
    "a = sess.run(t[:1,:,:])\n",
    "b = sess.run(t[:,:1,:])\n",
    "c = sess.run(t[:,:,:1])\n",
    "d = sess.run(t[:,:-1,:])\n",
    "\n",
    "print(\"a = {}\".format(a))\n",
    "print(\"b = {}\".format(b))\n",
    "print(\"c = {}\".format(c))\n",
    "print(\"d = {}\".format(d))\n",
    "\n",
    "t = tf.constant([0,1,2,3,4,5,6,7,8,9])\n",
    "\n",
    "a = sess.run(t[:1])\n",
    "b = sess.run(t[:-1])\n",
    "a, b"
   ]
  }
 ],
 "metadata": {
  "kernelspec": {
   "display_name": "Python 3",
   "language": "python",
   "name": "python3"
  },
  "language_info": {
   "codemirror_mode": {
    "name": "ipython",
    "version": 3
   },
   "file_extension": ".py",
   "mimetype": "text/x-python",
   "name": "python",
   "nbconvert_exporter": "python",
   "pygments_lexer": "ipython3",
   "version": "3.5.3"
  }
 },
 "nbformat": 4,
 "nbformat_minor": 2
}
